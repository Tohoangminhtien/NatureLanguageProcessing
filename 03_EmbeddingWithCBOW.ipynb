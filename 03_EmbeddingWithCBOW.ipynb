{
  "nbformat": 4,
  "nbformat_minor": 0,
  "metadata": {
    "accelerator": "GPU",
    "colab": {
      "provenance": [],
      "machine_shape": "hm",
      "gpuType": "T4"
    },
    "kernelspec": {
      "display_name": "Python 3",
      "name": "python3"
    }
  },
  "cells": [
    {
      "cell_type": "markdown",
      "metadata": {
        "id": "qXvwpBOi5t_8"
      },
      "source": [
        "## 1. Tải dữ liệu"
      ]
    },
    {
      "cell_type": "code",
      "metadata": {
        "colab": {
          "base_uri": "https://localhost:8080/"
        },
        "id": "Xuw6Pd8LEUFS",
        "outputId": "178135a9-9979-479e-891e-98c160bef217"
      },
      "source": [
        "!wget --no-check-certificate \\\n",
        "    https://gist.githubusercontent.com/khacanh/4c4662fa226db87a4664dfc2f70bc63e/raw/5d8a1d890c73a1e92e6898137db28f3dc0676975/kieu.txt \\\n",
        "    -O ./kieu.txt"
      ],
      "execution_count": null,
      "outputs": [
        {
          "output_type": "stream",
          "name": "stdout",
          "text": [
            "--2023-07-26 11:36:49--  https://gist.githubusercontent.com/khacanh/4c4662fa226db87a4664dfc2f70bc63e/raw/5d8a1d890c73a1e92e6898137db28f3dc0676975/kieu.txt\n",
            "Resolving gist.githubusercontent.com (gist.githubusercontent.com)... 185.199.108.133, 185.199.109.133, 185.199.110.133, ...\n",
            "Connecting to gist.githubusercontent.com (gist.githubusercontent.com)|185.199.108.133|:443... connected.\n",
            "HTTP request sent, awaiting response... 200 OK\n",
            "Length: 135832 (133K) [text/plain]\n",
            "Saving to: ‘./kieu.txt’\n",
            "\n",
            "./kieu.txt          100%[===================>] 132.65K  --.-KB/s    in 0.003s  \n",
            "\n",
            "2023-07-26 11:36:50 (49.3 MB/s) - ‘./kieu.txt’ saved [135832/135832]\n",
            "\n"
          ]
        }
      ]
    },
    {
      "cell_type": "markdown",
      "metadata": {
        "id": "whOg80oR5yIY"
      },
      "source": [
        "Load các dòng thơ"
      ]
    },
    {
      "cell_type": "code",
      "metadata": {
        "id": "ALXqq2QANIlf"
      },
      "source": [
        "corpus = []\n",
        "f = open(\"kieu.txt\", \"r\")\n",
        "for line in f:\n",
        "  corpus.append(line)"
      ],
      "execution_count": null,
      "outputs": []
    },
    {
      "cell_type": "code",
      "metadata": {
        "colab": {
          "base_uri": "https://localhost:8080/"
        },
        "id": "wcnnQKb4r8bc",
        "outputId": "d1d0528f-47af-4388-e200-39d0ca67d9b2"
      },
      "source": [
        "len(corpus)"
      ],
      "execution_count": null,
      "outputs": [
        {
          "output_type": "execute_result",
          "data": {
            "text/plain": [
              "3254"
            ]
          },
          "metadata": {},
          "execution_count": 29
        }
      ]
    },
    {
      "cell_type": "code",
      "metadata": {
        "id": "qA1sVFNnNXYP",
        "colab": {
          "base_uri": "https://localhost:8080/"
        },
        "outputId": "92989932-9e4a-4b4f-c879-c3b510686a3e"
      },
      "source": [
        "corpus[:5]"
      ],
      "execution_count": null,
      "outputs": [
        {
          "output_type": "execute_result",
          "data": {
            "text/plain": [
              "['Trăm năm trong cõi người ta,\\n',\n",
              " 'Chữ tài chữ mệnh khéo là ghét nhau.\\n',\n",
              " 'Trải qua một cuộc bể dâu,\\n',\n",
              " 'Những điều trông thấy mà đau đớn lòng.\\n',\n",
              " 'Lạ gì bỉ sắc tư phong,\\n']"
            ]
          },
          "metadata": {},
          "execution_count": 30
        }
      ]
    },
    {
      "cell_type": "markdown",
      "metadata": {
        "id": "jHdl5m0I57OQ"
      },
      "source": [
        "## 2. Xây dựng tokenizer"
      ]
    },
    {
      "cell_type": "code",
      "metadata": {
        "id": "gxOlHUFHH5Xs"
      },
      "source": [
        "import tensorflow as tf\n",
        "from keras.preprocessing.text import Tokenizer\n",
        "from keras.utils import pad_sequences\n",
        "from keras.preprocessing.text import text_to_word_sequence"
      ],
      "execution_count": null,
      "outputs": []
    },
    {
      "cell_type": "code",
      "metadata": {
        "id": "CshQRSFu3w9z"
      },
      "source": [
        "for i in range(len(corpus)):\n",
        "  corpus[i] = text_to_word_sequence(corpus[i])"
      ],
      "execution_count": null,
      "outputs": []
    },
    {
      "cell_type": "code",
      "metadata": {
        "colab": {
          "base_uri": "https://localhost:8080/"
        },
        "id": "6P7JzRy8uuX2",
        "outputId": "8acf355d-7410-4b9c-dbfa-e58b9de132f3"
      },
      "source": [
        "corpus[:5]"
      ],
      "execution_count": null,
      "outputs": [
        {
          "output_type": "execute_result",
          "data": {
            "text/plain": [
              "[['trăm', 'năm', 'trong', 'cõi', 'người', 'ta'],\n",
              " ['chữ', 'tài', 'chữ', 'mệnh', 'khéo', 'là', 'ghét', 'nhau'],\n",
              " ['trải', 'qua', 'một', 'cuộc', 'bể', 'dâu'],\n",
              " ['những', 'điều', 'trông', 'thấy', 'mà', 'đau', 'đớn', 'lòng'],\n",
              " ['lạ', 'gì', 'bỉ', 'sắc', 'tư', 'phong']]"
            ]
          },
          "metadata": {},
          "execution_count": 32
        }
      ]
    },
    {
      "cell_type": "code",
      "metadata": {
        "id": "Rn9QEgJmIDcy"
      },
      "source": [
        "tokenizer = Tokenizer(oov_token='<OOV>')\n",
        "tokenizer.fit_on_texts(corpus)\n",
        "w2id = tokenizer.word_index"
      ],
      "execution_count": null,
      "outputs": []
    },
    {
      "cell_type": "code",
      "metadata": {
        "colab": {
          "base_uri": "https://localhost:8080/"
        },
        "id": "ScOeeM_6JO29",
        "outputId": "1e92887d-b2ce-4d46-eb23-2cdf0e7ef9ec"
      },
      "source": [
        "len(w2id)"
      ],
      "execution_count": null,
      "outputs": [
        {
          "output_type": "execute_result",
          "data": {
            "text/plain": [
              "2407"
            ]
          },
          "metadata": {},
          "execution_count": 39
        }
      ]
    },
    {
      "cell_type": "code",
      "metadata": {
        "id": "5BH10tUx0urk"
      },
      "source": [
        "from keras.utils import to_categorical"
      ],
      "execution_count": null,
      "outputs": []
    },
    {
      "cell_type": "markdown",
      "metadata": {
        "id": "7nzOitih6K54"
      },
      "source": [
        "## 3. Xử lý dữ liệu cho CBOW"
      ]
    },
    {
      "cell_type": "code",
      "metadata": {
        "id": "pissk0456R68",
        "colab": {
          "base_uri": "https://localhost:8080/"
        },
        "outputId": "186cbd99-6406-4446-83f8-2e95b8c28ae1"
      },
      "source": [
        "vocab_size = len(tokenizer.word_index) + 1\n",
        "window_size = 2\n",
        "vocab_size"
      ],
      "execution_count": null,
      "outputs": [
        {
          "output_type": "execute_result",
          "data": {
            "text/plain": [
              "2408"
            ]
          },
          "metadata": {},
          "execution_count": 44
        }
      ]
    },
    {
      "cell_type": "code",
      "metadata": {
        "id": "UVYlisjiJWu8"
      },
      "source": [
        "import numpy as np\n",
        "def generate_pairs(window_size, corpus):\n",
        "  \"\"\"\n",
        "  Tiến hành lấy 1 từ khỏi câu làm nhãn và sử dụng câu bao\n",
        "  gồm k từ bên trái và k từ bên phải (trường hợp này window_size = k) làm đầu vào\n",
        "\n",
        "  Đầu vào:\n",
        "    window_size:\n",
        "      Dạng: Python integer\n",
        "      Miêu tả: k từ bên trái/phải được giữ lại\n",
        "    corpus:\n",
        "      Dạng: Python Dictionary\n",
        "      Miêu tả: từ điển nối từ và id\n",
        "  \"\"\"\n",
        "  X = []\n",
        "  y = []\n",
        "  for words in corpus:\n",
        "    start = 0\n",
        "    while start + window_size * 2 < len(words):\n",
        "      end = start + window_size * 2\n",
        "      tar_i = start + window_size\n",
        "\n",
        "      # Lựa chọn từ ở vị trí hiện tại làm nhãn\n",
        "      label = words[tar_i]\n",
        "\n",
        "      # Nối k từ bên trái và k từ bên phải của từ này thành 1 câu\n",
        "      x = [\" \".join(words[start:tar_i] + words[tar_i+1:end+1])]\n",
        "\n",
        "      print(words)\n",
        "      print(x, \"--->\", label)\n",
        "      start += 1\n",
        "      X.append(tokenizer.texts_to_sequences(x)[0])\n",
        "      y.append(tokenizer.word_index[label])\n",
        "\n",
        "  return tf.convert_to_tensor(X) , tf.convert_to_tensor(y)"
      ],
      "execution_count": null,
      "outputs": []
    },
    {
      "cell_type": "code",
      "metadata": {
        "id": "oNYKyw5z1Rjl"
      },
      "source": [
        "X_train, y_train = generate_pairs(window_size, corpus)"
      ],
      "execution_count": null,
      "outputs": []
    },
    {
      "cell_type": "code",
      "metadata": {
        "colab": {
          "base_uri": "https://localhost:8080/"
        },
        "id": "qOgIWRf4qP5D",
        "outputId": "81e4f02f-47b4-45c0-edf1-a768daf40e0d"
      },
      "source": [
        "X_train.numpy()"
      ],
      "execution_count": null,
      "outputs": [
        {
          "output_type": "execute_result",
          "data": {
            "text/plain": [
              "array([[143,  77, 498,   4],\n",
              "       [ 77,  27,   4,  66],\n",
              "       [126, 127, 374, 351],\n",
              "       ...,\n",
              "       [240,  10,   2, 332],\n",
              "       [ 10,  89, 332, 755],\n",
              "       [ 89,   2, 755, 304]], dtype=int32)"
            ]
          },
          "metadata": {},
          "execution_count": 63
        }
      ]
    },
    {
      "cell_type": "code",
      "source": [
        "y_train.numpy()"
      ],
      "metadata": {
        "colab": {
          "base_uri": "https://localhost:8080/"
        },
        "id": "ZQ8SdrUrCZRo",
        "outputId": "a3cedfe6-3619-4b9d-9b52-bfde6ea8b79c"
      },
      "execution_count": null,
      "outputs": [
        {
          "output_type": "execute_result",
          "data": {
            "text/plain": [
              "array([ 27, 498, 126, ...,  89,   2, 332], dtype=int32)"
            ]
          },
          "metadata": {},
          "execution_count": 67
        }
      ]
    },
    {
      "cell_type": "markdown",
      "metadata": {
        "id": "oSuIu5UZ7SQq"
      },
      "source": [
        "## 4. Xây dựng mô hình"
      ]
    },
    {
      "cell_type": "markdown",
      "metadata": {
        "id": "meZtLRLO7a2i"
      },
      "source": [
        "Mô hình CBOW bao gồm\n",
        "- 1 lớp Embedding với chiều được định sẵn\n",
        "- 1 lớp Dense để phóng về chiều từ điển"
      ]
    },
    {
      "cell_type": "code",
      "metadata": {
        "id": "GvRw8Hva5bd7"
      },
      "source": [
        "from keras.models import Sequential\n",
        "from keras.layers import Dense, Embedding, Lambda\n",
        "from keras.backend import mean\n"
      ],
      "execution_count": null,
      "outputs": []
    },
    {
      "cell_type": "markdown",
      "metadata": {
        "id": "oUYyU8SJ7wNs"
      },
      "source": [
        "Kiểm tra mô hình"
      ]
    },
    {
      "cell_type": "code",
      "metadata": {
        "id": "Rbw3UJV_5lpN"
      },
      "source": [
        "embedding_size = 128\n",
        "cbow = Sequential()\n",
        "cbow.add(Embedding(input_dim=vocab_size, output_dim=embedding_size, input_length=window_size*2))\n",
        "cbow.add(Lambda(lambda x: mean(x, axis=1), output_shape=(embedding_size,) ))\n",
        "cbow.add(Dense(vocab_size, activation='softmax'))"
      ],
      "execution_count": null,
      "outputs": []
    },
    {
      "cell_type": "code",
      "metadata": {
        "id": "kjHxO7PE6d6C",
        "colab": {
          "base_uri": "https://localhost:8080/"
        },
        "outputId": "865282b8-9ee2-407c-abb1-31e56581286c"
      },
      "source": [
        "cbow.summary()"
      ],
      "execution_count": null,
      "outputs": [
        {
          "output_type": "stream",
          "name": "stdout",
          "text": [
            "Model: \"sequential_4\"\n",
            "_________________________________________________________________\n",
            " Layer (type)                Output Shape              Param #   \n",
            "=================================================================\n",
            " embedding_4 (Embedding)     (None, 4, 128)            308224    \n",
            "                                                                 \n",
            " lambda_3 (Lambda)           (None, 128)               0         \n",
            "                                                                 \n",
            " dense_4 (Dense)             (None, 2408)              310632    \n",
            "                                                                 \n",
            "=================================================================\n",
            "Total params: 618,856\n",
            "Trainable params: 618,856\n",
            "Non-trainable params: 0\n",
            "_________________________________________________________________\n"
          ]
        }
      ]
    },
    {
      "cell_type": "code",
      "source": [
        "from keras.utils import plot_model\n",
        "\n",
        "plot_model(cbow, show_shapes=True, show_layer_activations=True)"
      ],
      "metadata": {
        "colab": {
          "base_uri": "https://localhost:8080/",
          "height": 422
        },
        "id": "O9xTVHTiJ2Gi",
        "outputId": "d5379d6c-a24a-4e74-e844-cf8efe824526"
      },
      "execution_count": 84,
      "outputs": [
        {
          "output_type": "execute_result",
          "data": {
            "image/png": "[encoded data removed]",
            "text/plain": [
              "<IPython.core.display.Image object>"
            ]
          },
          "metadata": {},
          "execution_count": 84
        }
      ]
    },
    {
      "cell_type": "markdown",
      "metadata": {
        "id": "0Eb3YDUY7z0b"
      },
      "source": [
        "## 5. Tiến hành training"
      ]
    },
    {
      "cell_type": "code",
      "metadata": {
        "colab": {
          "base_uri": "https://localhost:8080/"
        },
        "id": "58jJIRbe748S",
        "outputId": "a44ad03d-89bb-4249-d228-5c8d06f491c7"
      },
      "source": [
        "cbow.compile(loss='sparse_categorical_crossentropy', optimizer='adam', metrics=['acc'])\n",
        "cbow.fit(X_train, y_train, epochs=100, verbose=1)"
      ],
      "execution_count": null,
      "outputs": [
        {
          "output_type": "stream",
          "name": "stdout",
          "text": [
            "Epoch 1/100\n",
            "306/306 [==============================] - 5s 16ms/step - loss: 7.4310 - acc: 0.0202\n",
            "Epoch 2/100\n",
            "306/306 [==============================] - 2s 5ms/step - loss: 6.7708 - acc: 0.0204\n",
            "Epoch 3/100\n",
            "306/306 [==============================] - 2s 6ms/step - loss: 6.6713 - acc: 0.0204\n",
            "Epoch 4/100\n",
            "306/306 [==============================] - 1s 5ms/step - loss: 6.6008 - acc: 0.0220\n",
            "Epoch 5/100\n",
            "306/306 [==============================] - 1s 4ms/step - loss: 6.5162 - acc: 0.0225\n",
            "Epoch 6/100\n",
            "306/306 [==============================] - 1s 4ms/step - loss: 6.4082 - acc: 0.0303\n",
            "Epoch 7/100\n",
            "306/306 [==============================] - 1s 4ms/step - loss: 6.2692 - acc: 0.0403\n",
            "Epoch 8/100\n",
            "306/306 [==============================] - 1s 4ms/step - loss: 6.0925 - acc: 0.0526\n",
            "Epoch 9/100\n",
            "306/306 [==============================] - 1s 4ms/step - loss: 5.8755 - acc: 0.0640\n",
            "Epoch 10/100\n",
            "306/306 [==============================] - 1s 5ms/step - loss: 5.6245 - acc: 0.0793\n",
            "Epoch 11/100\n",
            "306/306 [==============================] - 1s 4ms/step - loss: 5.3464 - acc: 0.1024\n",
            "Epoch 12/100\n",
            "306/306 [==============================] - 2s 5ms/step - loss: 5.0526 - acc: 0.1296\n",
            "Epoch 13/100\n",
            "306/306 [==============================] - 1s 5ms/step - loss: 4.7527 - acc: 0.1595\n",
            "Epoch 14/100\n",
            "306/306 [==============================] - 1s 4ms/step - loss: 4.4556 - acc: 0.1937\n",
            "Epoch 15/100\n",
            "306/306 [==============================] - 1s 4ms/step - loss: 4.1659 - acc: 0.2287\n",
            "Epoch 16/100\n",
            "306/306 [==============================] - 1s 4ms/step - loss: 3.8879 - acc: 0.2622\n",
            "Epoch 17/100\n",
            "306/306 [==============================] - 1s 4ms/step - loss: 3.6246 - acc: 0.2967\n",
            "Epoch 18/100\n",
            "306/306 [==============================] - 1s 4ms/step - loss: 3.3764 - acc: 0.3333\n",
            "Epoch 19/100\n",
            "306/306 [==============================] - 1s 4ms/step - loss: 3.1436 - acc: 0.3723\n",
            "Epoch 20/100\n",
            "306/306 [==============================] - 1s 4ms/step - loss: 2.9260 - acc: 0.4096\n",
            "Epoch 21/100\n",
            "306/306 [==============================] - 1s 4ms/step - loss: 2.7235 - acc: 0.4532\n",
            "Epoch 22/100\n",
            "306/306 [==============================] - 1s 4ms/step - loss: 2.5356 - acc: 0.4875\n",
            "Epoch 23/100\n",
            "306/306 [==============================] - 2s 6ms/step - loss: 2.3608 - acc: 0.5240\n",
            "Epoch 24/100\n",
            "306/306 [==============================] - 1s 4ms/step - loss: 2.1992 - acc: 0.5598\n",
            "Epoch 25/100\n",
            "306/306 [==============================] - 1s 4ms/step - loss: 2.0494 - acc: 0.5923\n",
            "Epoch 26/100\n",
            "306/306 [==============================] - 1s 4ms/step - loss: 1.9107 - acc: 0.6274\n",
            "Epoch 27/100\n",
            "306/306 [==============================] - 1s 4ms/step - loss: 1.7831 - acc: 0.6561\n",
            "Epoch 28/100\n",
            "306/306 [==============================] - 1s 4ms/step - loss: 1.6637 - acc: 0.6845\n",
            "Epoch 29/100\n",
            "306/306 [==============================] - 1s 4ms/step - loss: 1.5540 - acc: 0.7073\n",
            "Epoch 30/100\n",
            "306/306 [==============================] - 1s 4ms/step - loss: 1.4523 - acc: 0.7299\n",
            "Epoch 31/100\n",
            "306/306 [==============================] - 1s 4ms/step - loss: 1.3582 - acc: 0.7487\n",
            "Epoch 32/100\n",
            "306/306 [==============================] - 1s 3ms/step - loss: 1.2708 - acc: 0.7666\n",
            "Epoch 33/100\n",
            "306/306 [==============================] - 1s 4ms/step - loss: 1.1897 - acc: 0.7855\n",
            "Epoch 34/100\n",
            "306/306 [==============================] - 1s 5ms/step - loss: 1.1144 - acc: 0.8006\n",
            "Epoch 35/100\n",
            "306/306 [==============================] - 1s 4ms/step - loss: 1.0445 - acc: 0.8192\n",
            "Epoch 36/100\n",
            "306/306 [==============================] - 1s 3ms/step - loss: 0.9794 - acc: 0.8308\n",
            "Epoch 37/100\n",
            "306/306 [==============================] - 1s 4ms/step - loss: 0.9188 - acc: 0.8442\n",
            "Epoch 38/100\n",
            "306/306 [==============================] - 1s 4ms/step - loss: 0.8624 - acc: 0.8590\n",
            "Epoch 39/100\n",
            "306/306 [==============================] - 1s 4ms/step - loss: 0.8102 - acc: 0.8682\n",
            "Epoch 40/100\n",
            "306/306 [==============================] - 1s 4ms/step - loss: 0.7616 - acc: 0.8792\n",
            "Epoch 41/100\n",
            "306/306 [==============================] - 1s 4ms/step - loss: 0.7162 - acc: 0.8881\n",
            "Epoch 42/100\n",
            "306/306 [==============================] - 1s 4ms/step - loss: 0.6739 - acc: 0.8965\n",
            "Epoch 43/100\n",
            "306/306 [==============================] - 1s 4ms/step - loss: 0.6347 - acc: 0.9017\n",
            "Epoch 44/100\n",
            "306/306 [==============================] - 1s 5ms/step - loss: 0.5979 - acc: 0.9126\n",
            "Epoch 45/100\n",
            "306/306 [==============================] - 1s 4ms/step - loss: 0.5639 - acc: 0.9186\n",
            "Epoch 46/100\n",
            "306/306 [==============================] - 1s 4ms/step - loss: 0.5316 - acc: 0.9232\n",
            "Epoch 47/100\n",
            "306/306 [==============================] - 1s 3ms/step - loss: 0.5023 - acc: 0.9288\n",
            "Epoch 48/100\n",
            "306/306 [==============================] - 1s 4ms/step - loss: 0.4740 - acc: 0.9324\n",
            "Epoch 49/100\n",
            "306/306 [==============================] - 1s 4ms/step - loss: 0.4480 - acc: 0.9375\n",
            "Epoch 50/100\n",
            "306/306 [==============================] - 1s 3ms/step - loss: 0.4238 - acc: 0.9428\n",
            "Epoch 51/100\n",
            "306/306 [==============================] - 1s 4ms/step - loss: 0.4010 - acc: 0.9445\n",
            "Epoch 52/100\n",
            "306/306 [==============================] - 1s 3ms/step - loss: 0.3798 - acc: 0.9484\n",
            "Epoch 53/100\n",
            "306/306 [==============================] - 1s 4ms/step - loss: 0.3599 - acc: 0.9530\n",
            "Epoch 54/100\n",
            "306/306 [==============================] - 1s 4ms/step - loss: 0.3412 - acc: 0.9558\n",
            "Epoch 55/100\n",
            "306/306 [==============================] - 1s 5ms/step - loss: 0.3238 - acc: 0.9582\n",
            "Epoch 56/100\n",
            "306/306 [==============================] - 1s 4ms/step - loss: 0.3077 - acc: 0.9614\n",
            "Epoch 57/100\n",
            "306/306 [==============================] - 1s 4ms/step - loss: 0.2921 - acc: 0.9625\n",
            "Epoch 58/100\n",
            "306/306 [==============================] - 1s 4ms/step - loss: 0.2777 - acc: 0.9658\n",
            "Epoch 59/100\n",
            "306/306 [==============================] - 1s 3ms/step - loss: 0.2637 - acc: 0.9672\n",
            "Epoch 60/100\n",
            "306/306 [==============================] - 1s 4ms/step - loss: 0.2511 - acc: 0.9692\n",
            "Epoch 61/100\n",
            "306/306 [==============================] - 1s 3ms/step - loss: 0.2392 - acc: 0.9708\n",
            "Epoch 62/100\n",
            "306/306 [==============================] - 1s 4ms/step - loss: 0.2277 - acc: 0.9733\n",
            "Epoch 63/100\n",
            "306/306 [==============================] - 1s 4ms/step - loss: 0.2169 - acc: 0.9732\n",
            "Epoch 64/100\n",
            "306/306 [==============================] - 1s 4ms/step - loss: 0.2069 - acc: 0.9746\n",
            "Epoch 65/100\n",
            "306/306 [==============================] - 1s 5ms/step - loss: 0.1975 - acc: 0.9780\n",
            "Epoch 66/100\n",
            "306/306 [==============================] - 1s 5ms/step - loss: 0.1884 - acc: 0.9781\n",
            "Epoch 67/100\n",
            "306/306 [==============================] - 1s 4ms/step - loss: 0.1802 - acc: 0.9794\n",
            "Epoch 68/100\n",
            "306/306 [==============================] - 1s 4ms/step - loss: 0.1720 - acc: 0.9792\n",
            "Epoch 69/100\n",
            "306/306 [==============================] - 1s 3ms/step - loss: 0.1646 - acc: 0.9817\n",
            "Epoch 70/100\n",
            "306/306 [==============================] - 1s 3ms/step - loss: 0.1574 - acc: 0.9809\n",
            "Epoch 71/100\n",
            "306/306 [==============================] - 1s 4ms/step - loss: 0.1504 - acc: 0.9822\n",
            "Epoch 72/100\n",
            "306/306 [==============================] - 1s 3ms/step - loss: 0.1441 - acc: 0.9825\n",
            "Epoch 73/100\n",
            "306/306 [==============================] - 1s 4ms/step - loss: 0.1382 - acc: 0.9829\n",
            "Epoch 74/100\n",
            "306/306 [==============================] - 1s 4ms/step - loss: 0.1322 - acc: 0.9831\n",
            "Epoch 75/100\n",
            "306/306 [==============================] - 1s 4ms/step - loss: 0.1267 - acc: 0.9839\n",
            "Epoch 76/100\n",
            "306/306 [==============================] - 1s 5ms/step - loss: 0.1215 - acc: 0.9842\n",
            "Epoch 77/100\n",
            "306/306 [==============================] - 1s 4ms/step - loss: 0.1166 - acc: 0.9860\n",
            "Epoch 78/100\n",
            "306/306 [==============================] - 1s 4ms/step - loss: 0.1120 - acc: 0.9858\n",
            "Epoch 79/100\n",
            "306/306 [==============================] - 1s 4ms/step - loss: 0.1075 - acc: 0.9857\n",
            "Epoch 80/100\n",
            "306/306 [==============================] - 1s 3ms/step - loss: 0.1035 - acc: 0.9871\n",
            "Epoch 81/100\n",
            "306/306 [==============================] - 1s 4ms/step - loss: 0.0993 - acc: 0.9868\n",
            "Epoch 82/100\n",
            "306/306 [==============================] - 1s 4ms/step - loss: 0.0954 - acc: 0.9872\n",
            "Epoch 83/100\n",
            "306/306 [==============================] - 1s 4ms/step - loss: 0.0916 - acc: 0.9883\n",
            "Epoch 84/100\n",
            "306/306 [==============================] - 1s 4ms/step - loss: 0.0885 - acc: 0.9879\n",
            "Epoch 85/100\n",
            "306/306 [==============================] - 1s 4ms/step - loss: 0.0850 - acc: 0.9883\n",
            "Epoch 86/100\n",
            "306/306 [==============================] - 1s 4ms/step - loss: 0.0819 - acc: 0.9885\n",
            "Epoch 87/100\n",
            "306/306 [==============================] - 1s 5ms/step - loss: 0.0789 - acc: 0.9891\n",
            "Epoch 88/100\n",
            "306/306 [==============================] - 1s 4ms/step - loss: 0.0763 - acc: 0.9891\n",
            "Epoch 89/100\n",
            "306/306 [==============================] - 1s 3ms/step - loss: 0.0735 - acc: 0.9900\n",
            "Epoch 90/100\n",
            "306/306 [==============================] - 1s 4ms/step - loss: 0.0708 - acc: 0.9893\n",
            "Epoch 91/100\n",
            "306/306 [==============================] - 1s 4ms/step - loss: 0.0683 - acc: 0.9898\n",
            "Epoch 92/100\n",
            "306/306 [==============================] - 1s 3ms/step - loss: 0.0659 - acc: 0.9904\n",
            "Epoch 93/100\n",
            "306/306 [==============================] - 1s 3ms/step - loss: 0.0637 - acc: 0.9903\n",
            "Epoch 94/100\n",
            "306/306 [==============================] - 1s 3ms/step - loss: 0.0619 - acc: 0.9897\n",
            "Epoch 95/100\n",
            "306/306 [==============================] - 1s 4ms/step - loss: 0.0599 - acc: 0.9901\n",
            "Epoch 96/100\n",
            "306/306 [==============================] - 1s 4ms/step - loss: 0.0578 - acc: 0.9913\n",
            "Epoch 97/100\n",
            "306/306 [==============================] - 1s 4ms/step - loss: 0.0557 - acc: 0.9909\n",
            "Epoch 98/100\n",
            "306/306 [==============================] - 2s 5ms/step - loss: 0.0541 - acc: 0.9914\n",
            "Epoch 99/100\n",
            "306/306 [==============================] - 1s 4ms/step - loss: 0.0525 - acc: 0.9915\n",
            "Epoch 100/100\n",
            "306/306 [==============================] - 1s 3ms/step - loss: 0.0508 - acc: 0.9913\n"
          ]
        },
        {
          "output_type": "execute_result",
          "data": {
            "text/plain": [
              "<keras.callbacks.History at 0x7caac4130cd0>"
            ]
          },
          "metadata": {},
          "execution_count": 78
        }
      ]
    },
    {
      "cell_type": "markdown",
      "metadata": {
        "id": "uG9LsYJ8774T"
      },
      "source": [
        "6. Kiểm tra sinh từ"
      ]
    },
    {
      "cell_type": "code",
      "metadata": {
        "id": "sLmQe29O7gac",
        "colab": {
          "base_uri": "https://localhost:8080/",
          "height": 70
        },
        "outputId": "6a243434-bff8-4bd5-e30f-74a2de156cf5"
      },
      "source": [
        "example = 'Trăm năm cõi người'\n",
        "example = text_to_word_sequence(example)\n",
        "example = tokenizer.texts_to_sequences([example])\n",
        "example = tf.convert_to_tensor(example)\n",
        "cbow.predict(example)\n",
        "tokenizer.index_word[np.argmax(cbow.predict(example))]"
      ],
      "execution_count": null,
      "outputs": [
        {
          "output_type": "stream",
          "name": "stdout",
          "text": [
            "1/1 [==============================] - 0s 46ms/step\n",
            "1/1 [==============================] - 0s 20ms/step\n"
          ]
        },
        {
          "output_type": "execute_result",
          "data": {
            "text/plain": [
              "'trong'"
            ],
            "application/vnd.google.colaboratory.intrinsic+json": {
              "type": "string"
            }
          },
          "metadata": {},
          "execution_count": 82
        }
      ]
    },
    {
      "cell_type": "markdown",
      "metadata": {
        "id": "9MWK7vke8C-1"
      },
      "source": [
        "## 6. Hiển thị Embedding"
      ]
    },
    {
      "cell_type": "code",
      "metadata": {
        "id": "bj2y1LLvvZTF"
      },
      "source": [
        "weights = cbow.get_weights()[0]"
      ],
      "execution_count": null,
      "outputs": []
    },
    {
      "cell_type": "code",
      "metadata": {
        "colab": {
          "base_uri": "https://localhost:8080/"
        },
        "id": "0cAiLLuowik9",
        "outputId": "28c776a6-eb8c-47c5-e209-c398f6ab53fa"
      },
      "source": [
        "weights.shape"
      ],
      "execution_count": null,
      "outputs": [
        {
          "output_type": "execute_result",
          "data": {
            "text/plain": [
              "(2408, 128)"
            ]
          },
          "metadata": {},
          "execution_count": 80
        }
      ]
    },
    {
      "cell_type": "code",
      "metadata": {
        "colab": {
          "base_uri": "https://localhost:8080/",
          "height": 317
        },
        "id": "13bBZ1yWwTDt",
        "outputId": "0209b5aa-2f55-4240-ea0c-20c026b406c7"
      },
      "source": [
        "import pandas as pd\n",
        "weights = cbow.get_weights()[0]\n",
        "weights = weights[1:]\n",
        "print(weights.shape)\n",
        "\n",
        "pd.DataFrame(weights, index=list(tokenizer.index_word.values())).head()"
      ],
      "execution_count": null,
      "outputs": [
        {
          "output_type": "stream",
          "name": "stdout",
          "text": [
            "(2407, 128)\n"
          ]
        },
        {
          "output_type": "execute_result",
          "data": {
            "text/plain": [
              "            0         1         2         3         4         5         6    \\\n",
              "<OOV> -1.236698  0.201824  0.572101  0.125164 -0.811192 -0.120448 -0.918842   \n",
              "một   -1.406773 -0.938034 -0.002239 -2.408614 -1.278805 -0.951506  0.199969   \n",
              "đã     0.616364 -3.106002  0.150707 -0.625102 -0.684270 -0.426016  1.002890   \n",
              "người  0.446240  0.161893 -0.516017 -1.294341  1.447320 -0.007344 -0.439106   \n",
              "nàng  -0.131963  0.529943  0.047270  1.281149 -0.969978  0.568849  0.164120   \n",
              "\n",
              "            7         8         9    ...       118       119       120  \\\n",
              "<OOV>  0.803646  0.648930  0.917917  ... -0.119426 -0.407833 -0.624822   \n",
              "một   -1.253052 -0.923205  1.055947  ... -1.227864 -0.578797  2.301090   \n",
              "đã     0.303251 -0.208308  0.440750  ... -0.340602  1.433327 -1.517547   \n",
              "người -0.240124 -0.661176 -2.357723  ... -0.963069 -0.977101  0.251281   \n",
              "nàng   0.572200  1.040143  0.239382  ... -2.042561  0.859989  0.753209   \n",
              "\n",
              "            121       122       123       124       125       126       127  \n",
              "<OOV>  0.201848 -0.227911 -0.145733 -0.059845 -1.695303 -0.195441  0.106188  \n",
              "một    0.748831  0.532190  0.234105 -0.320095  1.788026  0.492142  0.099150  \n",
              "đã     0.446074 -0.488917  0.456823  0.549649 -0.314763  0.975547 -1.336631  \n",
              "người  1.054641  0.664057 -2.176433 -0.561507  0.107915  0.952061  1.283490  \n",
              "nàng  -0.176652 -2.449202  0.928226  0.145531 -0.240821  0.208140 -0.098439  \n",
              "\n",
              "[5 rows x 128 columns]"
            ],
            "text/html": [
              "\n",
              "\n",
              "  <div id=\"df-61cb5666-501c-4b7c-a862-6ed76f6d4a1c\">\n",
              "    <div class=\"colab-df-container\">\n",
              "      <div>\n",
              "<style scoped>\n",
              "    .dataframe tbody tr th:only-of-type {\n",
              "        vertical-align: middle;\n",
              "    }\n",
              "\n",
              "    .dataframe tbody tr th {\n",
              "        vertical-align: top;\n",
              "    }\n",
              "\n",
              "    .dataframe thead th {\n",
              "        text-align: right;\n",
              "    }\n",
              "</style>\n",
              "<table border=\"1\" class=\"dataframe\">\n",
              "  <thead>\n",
              "    <tr style=\"text-align: right;\">\n",
              "      <th></th>\n",
              "      <th>0</th>\n",
              "      <th>1</th>\n",
              "      <th>2</th>\n",
              "      <th>3</th>\n",
              "      <th>4</th>\n",
              "      <th>5</th>\n",
              "      <th>6</th>\n",
              "      <th>7</th>\n",
              "      <th>8</th>\n",
              "      <th>9</th>\n",
              "      <th>...</th>\n",
              "      <th>118</th>\n",
              "      <th>119</th>\n",
              "      <th>120</th>\n",
              "      <th>121</th>\n",
              "      <th>122</th>\n",
              "      <th>123</th>\n",
              "      <th>124</th>\n",
              "      <th>125</th>\n",
              "      <th>126</th>\n",
              "      <th>127</th>\n",
              "    </tr>\n",
              "  </thead>\n",
              "  <tbody>\n",
              "    <tr>\n",
              "      <th>&lt;OOV&gt;</th>\n",
              "      <td>-1.236698</td>\n",
              "      <td>0.201824</td>\n",
              "      <td>0.572101</td>\n",
              "      <td>0.125164</td>\n",
              "      <td>-0.811192</td>\n",
              "      <td>-0.120448</td>\n",
              "      <td>-0.918842</td>\n",
              "      <td>0.803646</td>\n",
              "      <td>0.648930</td>\n",
              "      <td>0.917917</td>\n",
              "      <td>...</td>\n",
              "      <td>-0.119426</td>\n",
              "      <td>-0.407833</td>\n",
              "      <td>-0.624822</td>\n",
              "      <td>0.201848</td>\n",
              "      <td>-0.227911</td>\n",
              "      <td>-0.145733</td>\n",
              "      <td>-0.059845</td>\n",
              "      <td>-1.695303</td>\n",
              "      <td>-0.195441</td>\n",
              "      <td>0.106188</td>\n",
              "    </tr>\n",
              "    <tr>\n",
              "      <th>một</th>\n",
              "      <td>-1.406773</td>\n",
              "      <td>-0.938034</td>\n",
              "      <td>-0.002239</td>\n",
              "      <td>-2.408614</td>\n",
              "      <td>-1.278805</td>\n",
              "      <td>-0.951506</td>\n",
              "      <td>0.199969</td>\n",
              "      <td>-1.253052</td>\n",
              "      <td>-0.923205</td>\n",
              "      <td>1.055947</td>\n",
              "      <td>...</td>\n",
              "      <td>-1.227864</td>\n",
              "      <td>-0.578797</td>\n",
              "      <td>2.301090</td>\n",
              "      <td>0.748831</td>\n",
              "      <td>0.532190</td>\n",
              "      <td>0.234105</td>\n",
              "      <td>-0.320095</td>\n",
              "      <td>1.788026</td>\n",
              "      <td>0.492142</td>\n",
              "      <td>0.099150</td>\n",
              "    </tr>\n",
              "    <tr>\n",
              "      <th>đã</th>\n",
              "      <td>0.616364</td>\n",
              "      <td>-3.106002</td>\n",
              "      <td>0.150707</td>\n",
              "      <td>-0.625102</td>\n",
              "      <td>-0.684270</td>\n",
              "      <td>-0.426016</td>\n",
              "      <td>1.002890</td>\n",
              "      <td>0.303251</td>\n",
              "      <td>-0.208308</td>\n",
              "      <td>0.440750</td>\n",
              "      <td>...</td>\n",
              "      <td>-0.340602</td>\n",
              "      <td>1.433327</td>\n",
              "      <td>-1.517547</td>\n",
              "      <td>0.446074</td>\n",
              "      <td>-0.488917</td>\n",
              "      <td>0.456823</td>\n",
              "      <td>0.549649</td>\n",
              "      <td>-0.314763</td>\n",
              "      <td>0.975547</td>\n",
              "      <td>-1.336631</td>\n",
              "    </tr>\n",
              "    <tr>\n",
              "      <th>người</th>\n",
              "      <td>0.446240</td>\n",
              "      <td>0.161893</td>\n",
              "      <td>-0.516017</td>\n",
              "      <td>-1.294341</td>\n",
              "      <td>1.447320</td>\n",
              "      <td>-0.007344</td>\n",
              "      <td>-0.439106</td>\n",
              "      <td>-0.240124</td>\n",
              "      <td>-0.661176</td>\n",
              "      <td>-2.357723</td>\n",
              "      <td>...</td>\n",
              "      <td>-0.963069</td>\n",
              "      <td>-0.977101</td>\n",
              "      <td>0.251281</td>\n",
              "      <td>1.054641</td>\n",
              "      <td>0.664057</td>\n",
              "      <td>-2.176433</td>\n",
              "      <td>-0.561507</td>\n",
              "      <td>0.107915</td>\n",
              "      <td>0.952061</td>\n",
              "      <td>1.283490</td>\n",
              "    </tr>\n",
              "    <tr>\n",
              "      <th>nàng</th>\n",
              "      <td>-0.131963</td>\n",
              "      <td>0.529943</td>\n",
              "      <td>0.047270</td>\n",
              "      <td>1.281149</td>\n",
              "      <td>-0.969978</td>\n",
              "      <td>0.568849</td>\n",
              "      <td>0.164120</td>\n",
              "      <td>0.572200</td>\n",
              "      <td>1.040143</td>\n",
              "      <td>0.239382</td>\n",
              "      <td>...</td>\n",
              "      <td>-2.042561</td>\n",
              "      <td>0.859989</td>\n",
              "      <td>0.753209</td>\n",
              "      <td>-0.176652</td>\n",
              "      <td>-2.449202</td>\n",
              "      <td>0.928226</td>\n",
              "      <td>0.145531</td>\n",
              "      <td>-0.240821</td>\n",
              "      <td>0.208140</td>\n",
              "      <td>-0.098439</td>\n",
              "    </tr>\n",
              "  </tbody>\n",
              "</table>\n",
              "<p>5 rows × 128 columns</p>\n",
              "</div>\n",
              "      <button class=\"colab-df-convert\" onclick=\"convertToInteractive('df-61cb5666-501c-4b7c-a862-6ed76f6d4a1c')\"\n",
              "              title=\"Convert this dataframe to an interactive table.\"\n",
              "              style=\"display:none;\">\n",
              "\n",
              "  <svg xmlns=\"http://www.w3.org/2000/svg\" height=\"24px\"viewBox=\"0 0 24 24\"\n",
              "       width=\"24px\">\n",
              "    <path d=\"M0 0h24v24H0V0z\" fill=\"none\"/>\n",
              "    <path d=\"M18.56 5.44l.94 2.06.94-2.06 2.06-.94-2.06-.94-.94-2.06-.94 2.06-2.06.94zm-11 1L8.5 8.5l.94-2.06 2.06-.94-2.06-.94L8.5 2.5l-.94 2.06-2.06.94zm10 10l.94 2.06.94-2.06 2.06-.94-2.06-.94-.94-2.06-.94 2.06-2.06.94z\"/><path d=\"M17.41 7.96l-1.37-1.37c-.4-.4-.92-.59-1.43-.59-.52 0-1.04.2-1.43.59L10.3 9.45l-7.72 7.72c-.78.78-.78 2.05 0 2.83L4 21.41c.39.39.9.59 1.41.59.51 0 1.02-.2 1.41-.59l7.78-7.78 2.81-2.81c.8-.78.8-2.07 0-2.86zM5.41 20L4 18.59l7.72-7.72 1.47 1.35L5.41 20z\"/>\n",
              "  </svg>\n",
              "      </button>\n",
              "\n",
              "\n",
              "\n",
              "    <div id=\"df-3ab4245a-8fd6-4bd9-a8b4-3da3490b65c6\">\n",
              "      <button class=\"colab-df-quickchart\" onclick=\"quickchart('df-3ab4245a-8fd6-4bd9-a8b4-3da3490b65c6')\"\n",
              "              title=\"Suggest charts.\"\n",
              "              style=\"display:none;\">\n",
              "\n",
              "<svg xmlns=\"http://www.w3.org/2000/svg\" height=\"24px\"viewBox=\"0 0 24 24\"\n",
              "     width=\"24px\">\n",
              "    <g>\n",
              "        <path d=\"M19 3H5c-1.1 0-2 .9-2 2v14c0 1.1.9 2 2 2h14c1.1 0 2-.9 2-2V5c0-1.1-.9-2-2-2zM9 17H7v-7h2v7zm4 0h-2V7h2v10zm4 0h-2v-4h2v4z\"/>\n",
              "    </g>\n",
              "</svg>\n",
              "      </button>\n",
              "    </div>\n",
              "\n",
              "<style>\n",
              "  .colab-df-quickchart {\n",
              "    background-color: #E8F0FE;\n",
              "    border: none;\n",
              "    border-radius: 50%;\n",
              "    cursor: pointer;\n",
              "    display: none;\n",
              "    fill: #1967D2;\n",
              "    height: 32px;\n",
              "    padding: 0 0 0 0;\n",
              "    width: 32px;\n",
              "  }\n",
              "\n",
              "  .colab-df-quickchart:hover {\n",
              "    background-color: #E2EBFA;\n",
              "    box-shadow: 0px 1px 2px rgba(60, 64, 67, 0.3), 0px 1px 3px 1px rgba(60, 64, 67, 0.15);\n",
              "    fill: #174EA6;\n",
              "  }\n",
              "\n",
              "  [theme=dark] .colab-df-quickchart {\n",
              "    background-color: #3B4455;\n",
              "    fill: #D2E3FC;\n",
              "  }\n",
              "\n",
              "  [theme=dark] .colab-df-quickchart:hover {\n",
              "    background-color: #434B5C;\n",
              "    box-shadow: 0px 1px 3px 1px rgba(0, 0, 0, 0.15);\n",
              "    filter: drop-shadow(0px 1px 2px rgba(0, 0, 0, 0.3));\n",
              "    fill: #FFFFFF;\n",
              "  }\n",
              "</style>\n",
              "\n",
              "    <script>\n",
              "      async function quickchart(key) {\n",
              "        const containerElement = document.querySelector('#' + key);\n",
              "        const charts = await google.colab.kernel.invokeFunction(\n",
              "            'suggestCharts', [key], {});\n",
              "      }\n",
              "    </script>\n",
              "\n",
              "      <script>\n",
              "\n",
              "function displayQuickchartButton(domScope) {\n",
              "  let quickchartButtonEl =\n",
              "    domScope.querySelector('#df-3ab4245a-8fd6-4bd9-a8b4-3da3490b65c6 button.colab-df-quickchart');\n",
              "  quickchartButtonEl.style.display =\n",
              "    google.colab.kernel.accessAllowed ? 'block' : 'none';\n",
              "}\n",
              "\n",
              "        displayQuickchartButton(document);\n",
              "      </script>\n",
              "      <style>\n",
              "    .colab-df-container {\n",
              "      display:flex;\n",
              "      flex-wrap:wrap;\n",
              "      gap: 12px;\n",
              "    }\n",
              "\n",
              "    .colab-df-convert {\n",
              "      background-color: #E8F0FE;\n",
              "      border: none;\n",
              "      border-radius: 50%;\n",
              "      cursor: pointer;\n",
              "      display: none;\n",
              "      fill: #1967D2;\n",
              "      height: 32px;\n",
              "      padding: 0 0 0 0;\n",
              "      width: 32px;\n",
              "    }\n",
              "\n",
              "    .colab-df-convert:hover {\n",
              "      background-color: #E2EBFA;\n",
              "      box-shadow: 0px 1px 2px rgba(60, 64, 67, 0.3), 0px 1px 3px 1px rgba(60, 64, 67, 0.15);\n",
              "      fill: #174EA6;\n",
              "    }\n",
              "\n",
              "    [theme=dark] .colab-df-convert {\n",
              "      background-color: #3B4455;\n",
              "      fill: #D2E3FC;\n",
              "    }\n",
              "\n",
              "    [theme=dark] .colab-df-convert:hover {\n",
              "      background-color: #434B5C;\n",
              "      box-shadow: 0px 1px 3px 1px rgba(0, 0, 0, 0.15);\n",
              "      filter: drop-shadow(0px 1px 2px rgba(0, 0, 0, 0.3));\n",
              "      fill: #FFFFFF;\n",
              "    }\n",
              "  </style>\n",
              "\n",
              "      <script>\n",
              "        const buttonEl =\n",
              "          document.querySelector('#df-61cb5666-501c-4b7c-a862-6ed76f6d4a1c button.colab-df-convert');\n",
              "        buttonEl.style.display =\n",
              "          google.colab.kernel.accessAllowed ? 'block' : 'none';\n",
              "\n",
              "        async function convertToInteractive(key) {\n",
              "          const element = document.querySelector('#df-61cb5666-501c-4b7c-a862-6ed76f6d4a1c');\n",
              "          const dataTable =\n",
              "            await google.colab.kernel.invokeFunction('convertToInteractive',\n",
              "                                                     [key], {});\n",
              "          if (!dataTable) return;\n",
              "\n",
              "          const docLinkHtml = 'Like what you see? Visit the ' +\n",
              "            '<a target=\"_blank\" href=https://colab.research.google.com/notebooks/data_table.ipynb>data table notebook</a>'\n",
              "            + ' to learn more about interactive tables.';\n",
              "          element.innerHTML = '';\n",
              "          dataTable['output_type'] = 'display_data';\n",
              "          await google.colab.output.renderOutput(dataTable, element);\n",
              "          const docLink = document.createElement('div');\n",
              "          docLink.innerHTML = docLinkHtml;\n",
              "          element.appendChild(docLink);\n",
              "        }\n",
              "      </script>\n",
              "    </div>\n",
              "  </div>\n"
            ]
          },
          "metadata": {},
          "execution_count": 81
        }
      ]
    }
  ]
}